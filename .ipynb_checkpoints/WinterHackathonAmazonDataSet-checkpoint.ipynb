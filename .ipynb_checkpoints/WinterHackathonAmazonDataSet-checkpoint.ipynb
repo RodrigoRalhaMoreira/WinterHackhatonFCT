{
 "cells": [
  {
   "cell_type": "code",
   "execution_count": 1,
   "id": "296f634f-08a5-4859-a09b-4e6bb6b16b06",
   "metadata": {
    "tags": []
   },
   "outputs": [],
   "source": [
    "# Importing necessary library\n",
    "import pandas as pd\n",
    "import numpy as np\n",
    "import matplotlib.pyplot as plt\n",
    "import seaborn as sns"
   ]
  },
  {
   "cell_type": "code",
   "execution_count": null,
   "id": "0e0525db-e6ba-4ff1-bd54-3eff0c05d04a",
   "metadata": {},
   "outputs": [],
   "source": [
    "books_data = pd.read_csv('books_data.csv')"
   ]
  }
 ],
 "metadata": {
  "kernelspec": {
   "display_name": "Python 3 (ipykernel)",
   "language": "python",
   "name": "python3"
  },
  "language_info": {
   "codemirror_mode": {
    "name": "ipython",
    "version": 3
   },
   "file_extension": ".py",
   "mimetype": "text/x-python",
   "name": "python",
   "nbconvert_exporter": "python",
   "pygments_lexer": "ipython3",
   "version": "3.11.1"
  }
 },
 "nbformat": 4,
 "nbformat_minor": 5
}
